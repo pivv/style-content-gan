{
 "cells": [
  {
   "cell_type": "code",
   "execution_count": 1,
   "metadata": {},
   "outputs": [],
   "source": [
    "#-*-coding:utf-8-*-\n",
    "\n",
    "%load_ext autoreload\n",
    "%autoreload 2\n",
    "\n",
    "import sys\n",
    "import os\n",
    "\n",
    "import numpy as np\n",
    "import pandas as pd\n",
    "\n",
    "import torch\n",
    "from torch.utils.data import DataLoader\n",
    "import torchvision\n",
    "\n",
    "import cv2\n",
    "\n",
    "import copy\n",
    "\n",
    "import time\n",
    "\n",
    "import matplotlib\n",
    "import matplotlib.pyplot as plt\n",
    "import matplotlib.dates as mdates\n",
    "from matplotlib.dates import date2num\n",
    "%matplotlib inline\n",
    "\n",
    "__ROOT_PATH = os.path.abspath('../../')\n",
    "sys.path.append(__ROOT_PATH)\n",
    "\n",
    "matplotlib.rcParams['figure.facecolor'] = 'w'"
   ]
  },
  {
   "cell_type": "code",
   "execution_count": 355,
   "metadata": {},
   "outputs": [],
   "source": [
    "from scgan.util.color import color_gray_image\n",
    "from scgan.loader.colored_mnist_loader import ColoredMnistDataset"
   ]
  },
  {
   "cell_type": "code",
   "execution_count": 2,
   "metadata": {},
   "outputs": [],
   "source": [
    "DATA_ROOT = os.path.join(__ROOT_PATH, \"data/\")"
   ]
  },
  {
   "cell_type": "code",
   "execution_count": 25,
   "metadata": {},
   "outputs": [],
   "source": [
    "mnist_train_dataset = torchvision.datasets.MNIST(root=DATA_ROOT, train=True, download=True,\n",
    "                                                 transform=torchvision.transforms.ToTensor())\n",
    "mnist_test_dataset = torchvision.datasets.MNIST(root=DATA_ROOT, train=False, download=True,\n",
    "                                                 transform=torchvision.transforms.ToTensor())"
   ]
  },
  {
   "cell_type": "code",
   "execution_count": 229,
   "metadata": {},
   "outputs": [
    {
     "name": "stdout",
     "output_type": "stream",
     "text": [
      "(60000, 28, 28, 3) (60000,)\n",
      "(10000, 28, 28, 3) (10000,)\n"
     ]
    }
   ],
   "source": [
    "train_images, train_labels = list(zip(*mnist_train_dataset))\n",
    "train_images = torch.cat(train_images, dim=0).unsqueeze(-1).expand(-1, -1, -1, 3).numpy()\n",
    "train_labels = np.array(train_labels)\n",
    "print(train_images.shape, train_labels.shape)\n",
    "\n",
    "test_images, test_labels = list(zip(*mnist_test_dataset))\n",
    "test_images = torch.cat(test_images, dim=0).unsqueeze(-1).expand(-1, -1, -1, 3).numpy()\n",
    "test_labels = np.array(test_labels)\n",
    "print(test_images.shape, test_labels.shape)"
   ]
  },
  {
   "cell_type": "code",
   "execution_count": 320,
   "metadata": {},
   "outputs": [
    {
     "name": "stdout",
     "output_type": "stream",
     "text": [
      "(60000, 28, 28, 3) (60000, 3)\n",
      "(10000, 28, 28, 3) (10000, 3)\n"
     ]
    }
   ],
   "source": [
    "train_colored_images = np.zeros_like(train_images)\n",
    "train_colors = []\n",
    "for iimage, image in enumerate(train_images):\n",
    "    random_color = (0, 0, 0)\n",
    "    while random_color[0] + random_color[1] + random_color[2] < 255:\n",
    "        random_color = (np.random.randint(256), np.random.randint(256), np.random.randint(256))\n",
    "    train_colored_images[iimage] = color_gray_image(image, random_color)\n",
    "    train_colors.append(list(random_color))\n",
    "train_colors = np.array(train_colors)\n",
    "print(train_colored_images.shape, train_colors.shape)\n",
    "\n",
    "test_colored_images = np.zeros_like(test_images)\n",
    "test_colors = []\n",
    "for iimage, image in enumerate(test_images):\n",
    "    random_color = (0, 0, 0)\n",
    "    while random_color[0] + random_color[1] + random_color[2] < 255:\n",
    "        random_color = (np.random.randint(256), np.random.randint(256), np.random.randint(256))\n",
    "    test_colored_images[iimage] = color_gray_image(image, random_color)\n",
    "    test_colors.append(list(random_color))\n",
    "test_colors = np.array(test_colors)\n",
    "print(test_colored_images.shape, test_colors.shape)"
   ]
  },
  {
   "cell_type": "code",
   "execution_count": 321,
   "metadata": {},
   "outputs": [],
   "source": [
    "train_data = dict()\n",
    "train_data['gray_image'] = train_images\n",
    "train_data['colored_image'] = train_colored_images\n",
    "train_data['label'] = train_labels\n",
    "train_data['color'] = train_colors\n",
    "np.savez(os.path.join(DATA_ROOT, 'colored_mnist/train.npz'), **train_data)\n",
    "\n",
    "test_data = dict()\n",
    "test_data['gray_image'] = test_images\n",
    "test_data['colored_image'] = test_colored_images\n",
    "test_data['label'] = test_labels\n",
    "test_data['color'] = test_colors\n",
    "np.savez(os.path.join(DATA_ROOT, 'colored_mnist/test.npz'), **test_data)"
   ]
  },
  {
   "cell_type": "code",
   "execution_count": 322,
   "metadata": {},
   "outputs": [],
   "source": [
    "train_data = dict(np.load(os.path.join(DATA_ROOT, 'colored_mnist/train.npz')))\n",
    "test_data = dict(np.load(os.path.join(DATA_ROOT, 'colored_mnist/test.npz')))"
   ]
  },
  {
   "cell_type": "code",
   "execution_count": 325,
   "metadata": {},
   "outputs": [
    {
     "name": "stdout",
     "output_type": "stream",
     "text": [
      "51058\n",
      "8 [ 97 177 159]\n"
     ]
    },
    {
     "data": {
      "image/png": "[encoded data removed]",
      "text/plain": [
       "<Figure size 1152x576 with 2 Axes>"
      ]
     },
     "metadata": {},
     "output_type": "display_data"
    }
   ],
   "source": [
    "data = train_data\n",
    "index = np.random.randint(len(data['label']))\n",
    "\n",
    "print(index)\n",
    "print(data['label'][index], data['color'][index])\n",
    "\n",
    "fig = plt.figure(figsize=(16, 8))\n",
    "ax = fig.add_subplot(1, 2, 1)\n",
    "plt.imshow(data['gray_image'][index])\n",
    "ax = fig.add_subplot(1, 2, 2)\n",
    "plt.imshow(data['colored_image'][index])\n",
    "plt.show()"
   ]
  },
  {
   "cell_type": "code",
   "execution_count": 356,
   "metadata": {},
   "outputs": [
    {
     "name": "stdout",
     "output_type": "stream",
     "text": [
      "60000 10000\n"
     ]
    }
   ],
   "source": [
    "train_dataset = ColoredMnistDataset(root=DATA_ROOT, train=True)\n",
    "test_dataset = ColoredMnistDataset(root=DATA_ROOT, train=False)\n",
    "print(len(train_dataset), len(test_dataset))"
   ]
  },
  {
   "cell_type": "code",
   "execution_count": 363,
   "metadata": {},
   "outputs": [
    {
     "data": {
      "text/plain": [
       "tensor(1.)"
      ]
     },
     "execution_count": 363,
     "metadata": {},
     "output_type": "execute_result"
    }
   ],
   "source": [
    "from torch import nn\n",
    "\n",
    "nn.MSELoss()(torch.ones(5, 2), torch.zeros(5, 2))"
   ]
  },
  {
   "cell_type": "code",
   "execution_count": 358,
   "metadata": {},
   "outputs": [
    {
     "name": "stdout",
     "output_type": "stream",
     "text": [
      "39363\n",
      "0 4\n",
      "[0. 0. 0.] [0.13333334 0.85490197 0.92941177]\n"
     ]
    },
    {
     "data": {
      "image/png": "[encoded data removed]",
      "text/plain": [
       "<Figure size 1152x576 with 2 Axes>"
      ]
     },
     "metadata": {},
     "output_type": "display_data"
    }
   ],
   "source": [
    "dataset = train_dataset\n",
    "index = np.random.randint(len(dataset))\n",
    "\n",
    "print(index)\n",
    "print(dataset[index]['y1'].item(), dataset[index]['y2'].item())\n",
    "print(dataset[index]['c1'].numpy(), dataset[index]['c2'].numpy())\n",
    "\n",
    "fig = plt.figure(figsize=(16, 8))\n",
    "ax = fig.add_subplot(1, 2, 1)\n",
    "plt.imshow(dataset[index]['x1'].numpy().transpose(1, 2, 0))\n",
    "ax = fig.add_subplot(1, 2, 2)\n",
    "plt.imshow(dataset[index]['x2'].numpy().transpose(1, 2, 0))\n",
    "plt.show()"
   ]
  },
  {
   "cell_type": "code",
   "execution_count": null,
   "metadata": {},
   "outputs": [],
   "source": []
  }
 ],
 "metadata": {
  "kernelspec": {
   "display_name": "pytorch3",
   "language": "python",
   "name": "pytorch3"
  },
  "language_info": {
   "codemirror_mode": {
    "name": "ipython",
    "version": 3
   },
   "file_extension": ".py",
   "mimetype": "text/x-python",
   "name": "python",
   "nbconvert_exporter": "python",
   "pygments_lexer": "ipython3",
   "version": "3.7.9"
  }
 },
 "nbformat": 4,
 "nbformat_minor": 4
}
