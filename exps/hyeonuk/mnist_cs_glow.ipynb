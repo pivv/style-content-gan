{
 "cells": [
  {
   "cell_type": "code",
   "execution_count": 1,
   "metadata": {},
   "outputs": [],
   "source": [
    "#-*-coding:utf-8-*-\n",
    "\n",
    "%load_ext autoreload\n",
    "%autoreload 2\n",
    "\n",
    "import sys\n",
    "import os\n",
    "\n",
    "import numpy as np\n",
    "import pandas as pd\n",
    "\n",
    "import torch\n",
    "from torch.utils.data import DataLoader\n",
    "import torchvision\n",
    "\n",
    "import cv2\n",
    "\n",
    "import copy\n",
    "\n",
    "import time\n",
    "\n",
    "import matplotlib\n",
    "import matplotlib.pyplot as plt\n",
    "import matplotlib.dates as mdates\n",
    "from matplotlib.dates import date2num\n",
    "%matplotlib inline\n",
    "\n",
    "__ROOT_PATH = os.path.abspath('../../')\n",
    "sys.path.append(__ROOT_PATH)\n",
    "\n",
    "matplotlib.rcParams['figure.facecolor'] = 'w'"
   ]
  },
  {
   "cell_type": "code",
   "execution_count": 2,
   "metadata": {},
   "outputs": [],
   "source": [
    "from csgan.loader.colored_mnist_loader import ColoredMnistDataset\n",
    "from csgan.model.cs_glow_model_huk import CSGlowMnistModel"
   ]
  },
  {
   "cell_type": "code",
   "execution_count": 3,
   "metadata": {},
   "outputs": [],
   "source": [
    "DATA_ROOT = os.path.join(__ROOT_PATH, \"data/\")\n",
    "RUN_ROOT = os.path.join(__ROOT_PATH, \"runs/\")"
   ]
  },
  {
   "cell_type": "code",
   "execution_count": 8,
   "metadata": {},
   "outputs": [],
   "source": [
    "run_dir = os.path.join(RUN_ROOT, \"mnist_cs_glow/\")\n",
    "os.makedirs(run_dir, exist_ok=True)\n",
    "\n",
    "params = {'seed': 2222, 'num_epoch': 200, 'batch_size': 16, 'test_batch_size': 512,\n",
    "          'learning_rate': 0.0002, 'beta1': 0.5, 'beta2': 0.999,\n",
    "          'scheduler_gamma': 1., 'weight_decay': 0., #0.00001,\n",
    "          'lambda_glow': 0.01, 'lambda_weight_cycle': 10., 'lambda_siamese': 10.,\n",
    "          'lambda_content': 1., 'lambda_compatible': 1.,\n",
    "          'gamma_content': 1., 'gamma_compatible': 1.,\n",
    "          'scheduler_interval': 1000, 'checkpoint_interval': 10,\n",
    "          'validation_interval': 10, 'logging_interval': 10, 'sampling_interval': 100,\n",
    "          'stopping_loss': 'loss',\n",
    "          'run_dir': run_dir}"
   ]
  },
  {
   "cell_type": "code",
   "execution_count": 9,
   "metadata": {},
   "outputs": [
    {
     "name": "stdout",
     "output_type": "stream",
     "text": [
      "60000 10000\n"
     ]
    }
   ],
   "source": [
    "train_dataset = ColoredMnistDataset(root=DATA_ROOT, dirname='colored_mnist_bg', train=True)\n",
    "test_dataset = ColoredMnistDataset(root=DATA_ROOT, dirname='colored_mnist_bg', train=False)\n",
    "print(len(train_dataset), len(test_dataset))"
   ]
  },
  {
   "cell_type": "code",
   "execution_count": 10,
   "metadata": {},
   "outputs": [
    {
     "name": "stdout",
     "output_type": "stream",
     "text": [
      "3750 20\n"
     ]
    }
   ],
   "source": [
    "train_loader = DataLoader(train_dataset, params['batch_size'], shuffle=True, drop_last=True)\n",
    "test_loader = DataLoader(test_dataset, params['test_batch_size'], shuffle=False, drop_last=False)\n",
    "print(len(train_loader), len(test_loader))"
   ]
  },
  {
   "cell_type": "code",
   "execution_count": 29,
   "metadata": {
    "scrolled": true
   },
   "outputs": [
    {
     "name": "stdout",
     "output_type": "stream",
     "text": [
      "\n",
      "Learning with learning rate:  0.00020000.\n",
      "\n"
     ]
    },
    {
     "name": "stderr",
     "output_type": "stream",
     "text": [
      "WARNING:matplotlib.image:Clipping input data to the valid range for imshow with RGB data ([0..1] for floats or [0..255] for integers).\n",
      "WARNING:matplotlib.image:Clipping input data to the valid range for imshow with RGB data ([0..1] for floats or [0..255] for integers).\n",
      "WARNING:matplotlib.image:Clipping input data to the valid range for imshow with RGB data ([0..1] for floats or [0..255] for integers).\n",
      "WARNING:matplotlib.image:Clipping input data to the valid range for imshow with RGB data ([0..1] for floats or [0..255] for integers).\n",
      "WARNING:matplotlib.image:Clipping input data to the valid range for imshow with RGB data ([0..1] for floats or [0..255] for integers).\n",
      "WARNING:matplotlib.image:Clipping input data to the valid range for imshow with RGB data ([0..1] for floats or [0..255] for integers).\n",
      "WARNING:matplotlib.image:Clipping input data to the valid range for imshow with RGB data ([0..1] for floats or [0..255] for integers).\n",
      "WARNING:matplotlib.image:Clipping input data to the valid range for imshow with RGB data ([0..1] for floats or [0..255] for integers).\n",
      "WARNING:matplotlib.image:Clipping input data to the valid range for imshow with RGB data ([0..1] for floats or [0..255] for integers).\n",
      "WARNING:matplotlib.image:Clipping input data to the valid range for imshow with RGB data ([0..1] for floats or [0..255] for integers).\n",
      "WARNING:matplotlib.image:Clipping input data to the valid range for imshow with RGB data ([0..1] for floats or [0..255] for integers).\n",
      "WARNING:matplotlib.image:Clipping input data to the valid range for imshow with RGB data ([0..1] for floats or [0..255] for integers).\n",
      "WARNING:matplotlib.image:Clipping input data to the valid range for imshow with RGB data ([0..1] for floats or [0..255] for integers).\n",
      "WARNING:matplotlib.image:Clipping input data to the valid range for imshow with RGB data ([0..1] for floats or [0..255] for integers).\n",
      "WARNING:matplotlib.image:Clipping input data to the valid range for imshow with RGB data ([0..1] for floats or [0..255] for integers).\n",
      "WARNING:matplotlib.image:Clipping input data to the valid range for imshow with RGB data ([0..1] for floats or [0..255] for integers).\n",
      "WARNING:matplotlib.image:Clipping input data to the valid range for imshow with RGB data ([0..1] for floats or [0..255] for integers).\n",
      "WARNING:matplotlib.image:Clipping input data to the valid range for imshow with RGB data ([0..1] for floats or [0..255] for integers).\n",
      "WARNING:matplotlib.image:Clipping input data to the valid range for imshow with RGB data ([0..1] for floats or [0..255] for integers).\n",
      "WARNING:matplotlib.image:Clipping input data to the valid range for imshow with RGB data ([0..1] for floats or [0..255] for integers).\n",
      "WARNING:matplotlib.image:Clipping input data to the valid range for imshow with RGB data ([0..1] for floats or [0..255] for integers).\n",
      "WARNING:matplotlib.image:Clipping input data to the valid range for imshow with RGB data ([0..1] for floats or [0..255] for integers).\n",
      "WARNING:matplotlib.image:Clipping input data to the valid range for imshow with RGB data ([0..1] for floats or [0..255] for integers).\n",
      "WARNING:matplotlib.image:Clipping input data to the valid range for imshow with RGB data ([0..1] for floats or [0..255] for integers).\n",
      "WARNING:matplotlib.image:Clipping input data to the valid range for imshow with RGB data ([0..1] for floats or [0..255] for integers).\n",
      "WARNING:matplotlib.image:Clipping input data to the valid range for imshow with RGB data ([0..1] for floats or [0..255] for integers).\n"
     ]
    },
    {
     "name": "stdout",
     "output_type": "stream",
     "text": [
      "[1/200] 10'th step. [LOSS] 4.644901. [LOSS_GLOW] 0.399950. [LOSS_WEIGHT_CYCLE] 0.636156. [LOSS_CONTENT] 0.691558. [ACCURACY_CONTENT] 0.468750. [LOSS_COMPATIBLE] 0.707460. [ACCURACY_COMPATIBLE] 0.500000. [LOSS_SIAMESE] 2.962029. [NORM_S1] 0.544237. [NORM_S2] 0.540904\n",
      "    Best Step:     10. Elapsed Time: 16.642509 seconds.\n",
      "[1/200] 20'th step. [LOSS] 2.405857. [LOSS_GLOW] 0.390665. [LOSS_WEIGHT_CYCLE] 0.167152. [LOSS_CONTENT] 0.697056. [ACCURACY_CONTENT] 0.500000. [LOSS_COMPATIBLE] 0.695261. [ACCURACY_COMPATIBLE] 0.500000. [LOSS_SIAMESE] 0.798553. [NORM_S1] 0.282583. [NORM_S2] 0.280993\n",
      "    Best Step:     20. Elapsed Time: 26.678679 seconds.\n",
      "[1/200] 30'th step. [LOSS] 2.183692. [LOSS_GLOW] 0.385083. [LOSS_WEIGHT_CYCLE] 0.078284. [LOSS_CONTENT] 0.694748. [ACCURACY_CONTENT] 0.500000. [LOSS_COMPATIBLE] 0.698370. [ACCURACY_COMPATIBLE] 0.500000. [LOSS_SIAMESE] 0.532317. [NORM_S1] 0.230718. [NORM_S2] 0.230516\n",
      "    Best Step:     30. Elapsed Time: 36.493439 seconds.\n",
      "[1/200] 40'th step. [LOSS] 2.161699. [LOSS_GLOW] 0.379908. [LOSS_WEIGHT_CYCLE] 0.054232. [LOSS_CONTENT] 0.688488. [ACCURACY_CONTENT] 0.750000. [LOSS_COMPATIBLE] 0.691029. [ACCURACY_COMPATIBLE] 0.500000. [LOSS_SIAMESE] 0.476927. [NORM_S1] 0.218385. [NORM_S2] 0.217911\n",
      "    Best Step:     40. Elapsed Time: 46.253348 seconds.\n",
      "[1/200] 50'th step. [LOSS] 2.051860. [LOSS_GLOW] 0.379776. [LOSS_WEIGHT_CYCLE] 0.029673. [LOSS_CONTENT] 0.696741. [ACCURACY_CONTENT] 0.500000. [LOSS_COMPATIBLE] 0.685786. [ACCURACY_COMPATIBLE] 0.500000. [LOSS_SIAMESE] 0.374038. [NORM_S1] 0.193399. [NORM_S2] 0.194644\n",
      "    Best Step:     50. Elapsed Time: 56.034200 seconds.\n",
      "[1/200] 60'th step. [LOSS] 2.099882. [LOSS_GLOW] 0.374224. [LOSS_WEIGHT_CYCLE] 0.026270. [LOSS_CONTENT] 0.696493. [ACCURACY_CONTENT] 0.500000. [LOSS_COMPATIBLE] 0.689173. [ACCURACY_COMPATIBLE] 0.500000. [LOSS_SIAMESE] 0.453393. [NORM_S1] 0.212929. [NORM_S2] 0.213308\n",
      "    Best Step:     60. Elapsed Time: 65.968641 seconds.\n",
      "[1/200] 70'th step. [LOSS] 2.185790. [LOSS_GLOW] 0.369517. [LOSS_WEIGHT_CYCLE] 0.027171. [LOSS_CONTENT] 0.695168. [ACCURACY_CONTENT] 0.343750. [LOSS_COMPATIBLE] 0.691223. [ACCURACY_COMPATIBLE] 0.515625. [LOSS_SIAMESE] 0.469928. [NORM_S1] 0.216777. [NORM_S2] 0.217636\n",
      "    Best Step:     70. Elapsed Time: 75.709599 seconds.\n",
      "[1/200] 80'th step. [LOSS] 2.134908. [LOSS_GLOW] 0.368132. [LOSS_WEIGHT_CYCLE] 0.021783. [LOSS_CONTENT] 0.695704. [ACCURACY_CONTENT] 0.500000. [LOSS_COMPATIBLE] 0.691637. [ACCURACY_COMPATIBLE] 0.500000. [LOSS_SIAMESE] 0.452617. [NORM_S1] 0.212745. [NORM_S2] 0.214248\n",
      "    Best Step:     80. Elapsed Time: 85.588191 seconds.\n",
      "[1/200] 90'th step. [LOSS] 2.100477. [LOSS_GLOW] 0.364780. [LOSS_WEIGHT_CYCLE] 0.009906. [LOSS_CONTENT] 0.694545. [ACCURACY_CONTENT] 0.468750. [LOSS_COMPATIBLE] 0.691190. [ACCURACY_COMPATIBLE] 0.515625. [LOSS_SIAMESE] 0.374317. [NORM_S1] 0.193471. [NORM_S2] 0.194000\n",
      "    Best Step:     90. Elapsed Time: 95.374029 seconds.\n",
      "[1/200] 100'th step. [LOSS] 2.072078. [LOSS_GLOW] 0.363229. [LOSS_WEIGHT_CYCLE] 0.008828. [LOSS_CONTENT] 0.694476. [ACCURACY_CONTENT] 0.468750. [LOSS_COMPATIBLE] 0.691204. [ACCURACY_COMPATIBLE] 0.609375. [LOSS_SIAMESE] 0.326893. [NORM_S1] 0.180801. [NORM_S2] 0.181619\n",
      "    Best Step:    100. Elapsed Time: 105.138925 seconds.\n"
     ]
    },
    {
     "name": "stderr",
     "output_type": "stream",
     "text": [
      "WARNING:matplotlib.image:Clipping input data to the valid range for imshow with RGB data ([0..1] for floats or [0..255] for integers).\n",
      "WARNING:matplotlib.image:Clipping input data to the valid range for imshow with RGB data ([0..1] for floats or [0..255] for integers).\n",
      "WARNING:matplotlib.image:Clipping input data to the valid range for imshow with RGB data ([0..1] for floats or [0..255] for integers).\n",
      "WARNING:matplotlib.image:Clipping input data to the valid range for imshow with RGB data ([0..1] for floats or [0..255] for integers).\n",
      "WARNING:matplotlib.image:Clipping input data to the valid range for imshow with RGB data ([0..1] for floats or [0..255] for integers).\n",
      "WARNING:matplotlib.image:Clipping input data to the valid range for imshow with RGB data ([0..1] for floats or [0..255] for integers).\n",
      "WARNING:matplotlib.image:Clipping input data to the valid range for imshow with RGB data ([0..1] for floats or [0..255] for integers).\n",
      "WARNING:matplotlib.image:Clipping input data to the valid range for imshow with RGB data ([0..1] for floats or [0..255] for integers).\n",
      "WARNING:matplotlib.image:Clipping input data to the valid range for imshow with RGB data ([0..1] for floats or [0..255] for integers).\n",
      "WARNING:matplotlib.image:Clipping input data to the valid range for imshow with RGB data ([0..1] for floats or [0..255] for integers).\n",
      "WARNING:matplotlib.image:Clipping input data to the valid range for imshow with RGB data ([0..1] for floats or [0..255] for integers).\n",
      "WARNING:matplotlib.image:Clipping input data to the valid range for imshow with RGB data ([0..1] for floats or [0..255] for integers).\n",
      "WARNING:matplotlib.image:Clipping input data to the valid range for imshow with RGB data ([0..1] for floats or [0..255] for integers).\n",
      "WARNING:matplotlib.image:Clipping input data to the valid range for imshow with RGB data ([0..1] for floats or [0..255] for integers).\n",
      "WARNING:matplotlib.image:Clipping input data to the valid range for imshow with RGB data ([0..1] for floats or [0..255] for integers).\n",
      "WARNING:matplotlib.image:Clipping input data to the valid range for imshow with RGB data ([0..1] for floats or [0..255] for integers).\n",
      "WARNING:matplotlib.image:Clipping input data to the valid range for imshow with RGB data ([0..1] for floats or [0..255] for integers).\n",
      "WARNING:matplotlib.image:Clipping input data to the valid range for imshow with RGB data ([0..1] for floats or [0..255] for integers).\n",
      "WARNING:matplotlib.image:Clipping input data to the valid range for imshow with RGB data ([0..1] for floats or [0..255] for integers).\n",
      "WARNING:matplotlib.image:Clipping input data to the valid range for imshow with RGB data ([0..1] for floats or [0..255] for integers).\n",
      "WARNING:matplotlib.image:Clipping input data to the valid range for imshow with RGB data ([0..1] for floats or [0..255] for integers).\n",
      "WARNING:matplotlib.image:Clipping input data to the valid range for imshow with RGB data ([0..1] for floats or [0..255] for integers).\n",
      "WARNING:matplotlib.image:Clipping input data to the valid range for imshow with RGB data ([0..1] for floats or [0..255] for integers).\n",
      "WARNING:matplotlib.image:Clipping input data to the valid range for imshow with RGB data ([0..1] for floats or [0..255] for integers).\n",
      "WARNING:matplotlib.image:Clipping input data to the valid range for imshow with RGB data ([0..1] for floats or [0..255] for integers).\n",
      "WARNING:matplotlib.image:Clipping input data to the valid range for imshow with RGB data ([0..1] for floats or [0..255] for integers).\n",
      "WARNING:matplotlib.image:Clipping input data to the valid range for imshow with RGB data ([0..1] for floats or [0..255] for integers).\n",
      "WARNING:matplotlib.image:Clipping input data to the valid range for imshow with RGB data ([0..1] for floats or [0..255] for integers).\n",
      "WARNING:matplotlib.image:Clipping input data to the valid range for imshow with RGB data ([0..1] for floats or [0..255] for integers).\n",
      "WARNING:matplotlib.image:Clipping input data to the valid range for imshow with RGB data ([0..1] for floats or [0..255] for integers).\n",
      "WARNING:matplotlib.image:Clipping input data to the valid range for imshow with RGB data ([0..1] for floats or [0..255] for integers).\n",
      "WARNING:matplotlib.image:Clipping input data to the valid range for imshow with RGB data ([0..1] for floats or [0..255] for integers).\n",
      "WARNING:matplotlib.image:Clipping input data to the valid range for imshow with RGB data ([0..1] for floats or [0..255] for integers).\n",
      "WARNING:matplotlib.image:Clipping input data to the valid range for imshow with RGB data ([0..1] for floats or [0..255] for integers).\n",
      "WARNING:matplotlib.image:Clipping input data to the valid range for imshow with RGB data ([0..1] for floats or [0..255] for integers).\n",
      "WARNING:matplotlib.image:Clipping input data to the valid range for imshow with RGB data ([0..1] for floats or [0..255] for integers).\n"
     ]
    },
    {
     "name": "stdout",
     "output_type": "stream",
     "text": [
      "[1/200] 110'th step. [LOSS] 2.129941. [LOSS_GLOW] 0.361135. [LOSS_WEIGHT_CYCLE] 0.012298. [LOSS_CONTENT] 0.692825. [ACCURACY_CONTENT] 0.500000. [LOSS_COMPATIBLE] 0.688263. [ACCURACY_COMPATIBLE] 0.546875. [LOSS_SIAMESE] 0.421900. [NORM_S1] 0.205400. [NORM_S2] 0.206320\n",
      "    Best Step:    110. Elapsed Time: 121.122224 seconds.\n",
      "[1/200] 120'th step. [LOSS] 2.154938. [LOSS_GLOW] 0.382546. [LOSS_WEIGHT_CYCLE] 0.000982. [LOSS_CONTENT] 0.697614. [ACCURACY_CONTENT] 0.500000. [LOSS_COMPATIBLE] 0.693421. [ACCURACY_COMPATIBLE] 0.500000. [LOSS_SIAMESE] 0.340222. [NORM_S1] 0.184451. [NORM_S2] 0.184496\n",
      "    Best Step:    120. Elapsed Time: 131.169364 seconds.\n",
      "[1/200] 130'th step. [LOSS] 2.019938. [LOSS_GLOW] 0.363022. [LOSS_WEIGHT_CYCLE] 0.001660. [LOSS_CONTENT] 0.693498. [ACCURACY_CONTENT] 0.500000. [LOSS_COMPATIBLE] 0.691435. [ACCURACY_COMPATIBLE] 0.484375. [LOSS_SIAMESE] 0.257156. [NORM_S1] 0.160361. [NORM_S2] 0.160566\n",
      "    Best Step:    130. Elapsed Time: 142.113150 seconds.\n",
      "[1/200] 140'th step. [LOSS] 2.150482. [LOSS_GLOW] 0.350765. [LOSS_WEIGHT_CYCLE] 0.012357. [LOSS_CONTENT] 0.693158. [ACCURACY_CONTENT] 0.500000. [LOSS_COMPATIBLE] 0.689284. [ACCURACY_COMPATIBLE] 0.500000. [LOSS_SIAMESE] 0.467645. [NORM_S1] 0.216250. [NORM_S2] 0.216972\n",
      "    Best Step:    140. Elapsed Time: 152.671486 seconds.\n",
      "[1/200] 150'th step. [LOSS] 2.067928. [LOSS_GLOW] 0.346708. [LOSS_WEIGHT_CYCLE] 0.012539. [LOSS_CONTENT] 0.693152. [ACCURACY_CONTENT] 0.500000. [LOSS_COMPATIBLE] 0.693159. [ACCURACY_COMPATIBLE] 0.500000. [LOSS_SIAMESE] 0.381890. [NORM_S1] 0.195417. [NORM_S2] 0.196331\n",
      "    Best Step:    150. Elapsed Time: 162.758521 seconds.\n",
      "[1/200] 160'th step. [LOSS] 2.011912. [LOSS_GLOW] 0.348396. [LOSS_WEIGHT_CYCLE] 0.008980. [LOSS_CONTENT] 0.694750. [ACCURACY_CONTENT] 0.500000. [LOSS_COMPATIBLE] 0.689607. [ACCURACY_COMPATIBLE] 0.500000. [LOSS_SIAMESE] 0.313868. [NORM_S1] 0.177161. [NORM_S2] 0.177570\n",
      "    Best Step:    160. Elapsed Time: 174.005453 seconds.\n",
      "[1/200] 170'th step. [LOSS] 2.024329. [LOSS_GLOW] 0.346922. [LOSS_WEIGHT_CYCLE] 0.004322. [LOSS_CONTENT] 0.693418. [ACCURACY_CONTENT] 0.500000. [LOSS_COMPATIBLE] 0.694439. [ACCURACY_COMPATIBLE] 0.437500. [LOSS_SIAMESE] 0.290513. [NORM_S1] 0.170443. [NORM_S2] 0.170758\n",
      "    Best Step:    170. Elapsed Time: 184.192219 seconds.\n",
      "[1/200] 180'th step. [LOSS] 2.036642. [LOSS_GLOW] 0.347527. [LOSS_WEIGHT_CYCLE] 0.006985. [LOSS_CONTENT] 0.694749. [ACCURACY_CONTENT] 0.500000. [LOSS_COMPATIBLE] 0.695417. [ACCURACY_COMPATIBLE] 0.500000. [LOSS_SIAMESE] 0.278886. [NORM_S1] 0.166997. [NORM_S2] 0.167571\n",
      "    Best Step:    180. Elapsed Time: 194.566485 seconds.\n",
      "[1/200] 190'th step. [LOSS] 1.991859. [LOSS_GLOW] 0.341588. [LOSS_WEIGHT_CYCLE] 0.005845. [LOSS_CONTENT] 0.693360. [ACCURACY_CONTENT] 0.468750. [LOSS_COMPATIBLE] 0.692115. [ACCURACY_COMPATIBLE] 0.546875. [LOSS_SIAMESE] 0.268570. [NORM_S1] 0.163880. [NORM_S2] 0.163867\n",
      "    Best Step:    190. Elapsed Time: 209.169445 seconds.\n",
      "[1/200] 200'th step. [LOSS] 2.131594. [LOSS_GLOW] 0.330195. [LOSS_WEIGHT_CYCLE] 0.011481. [LOSS_CONTENT] 0.693704. [ACCURACY_CONTENT] 0.468750. [LOSS_COMPATIBLE] 0.688613. [ACCURACY_COMPATIBLE] 0.562500. [LOSS_SIAMESE] 0.435582. [NORM_S1] 0.208703. [NORM_S2] 0.208796\n",
      "    Best Step:    200. Elapsed Time: 224.724860 seconds.\n"
     ]
    },
    {
     "name": "stderr",
     "output_type": "stream",
     "text": [
      "WARNING:matplotlib.image:Clipping input data to the valid range for imshow with RGB data ([0..1] for floats or [0..255] for integers).\n",
      "WARNING:matplotlib.image:Clipping input data to the valid range for imshow with RGB data ([0..1] for floats or [0..255] for integers).\n",
      "WARNING:matplotlib.image:Clipping input data to the valid range for imshow with RGB data ([0..1] for floats or [0..255] for integers).\n",
      "WARNING:matplotlib.image:Clipping input data to the valid range for imshow with RGB data ([0..1] for floats or [0..255] for integers).\n",
      "WARNING:matplotlib.image:Clipping input data to the valid range for imshow with RGB data ([0..1] for floats or [0..255] for integers).\n",
      "WARNING:matplotlib.image:Clipping input data to the valid range for imshow with RGB data ([0..1] for floats or [0..255] for integers).\n",
      "WARNING:matplotlib.image:Clipping input data to the valid range for imshow with RGB data ([0..1] for floats or [0..255] for integers).\n",
      "WARNING:matplotlib.image:Clipping input data to the valid range for imshow with RGB data ([0..1] for floats or [0..255] for integers).\n",
      "WARNING:matplotlib.image:Clipping input data to the valid range for imshow with RGB data ([0..1] for floats or [0..255] for integers).\n",
      "WARNING:matplotlib.image:Clipping input data to the valid range for imshow with RGB data ([0..1] for floats or [0..255] for integers).\n",
      "WARNING:matplotlib.image:Clipping input data to the valid range for imshow with RGB data ([0..1] for floats or [0..255] for integers).\n",
      "WARNING:matplotlib.image:Clipping input data to the valid range for imshow with RGB data ([0..1] for floats or [0..255] for integers).\n",
      "WARNING:matplotlib.image:Clipping input data to the valid range for imshow with RGB data ([0..1] for floats or [0..255] for integers).\n",
      "WARNING:matplotlib.image:Clipping input data to the valid range for imshow with RGB data ([0..1] for floats or [0..255] for integers).\n",
      "WARNING:matplotlib.image:Clipping input data to the valid range for imshow with RGB data ([0..1] for floats or [0..255] for integers).\n",
      "WARNING:matplotlib.image:Clipping input data to the valid range for imshow with RGB data ([0..1] for floats or [0..255] for integers).\n",
      "WARNING:matplotlib.image:Clipping input data to the valid range for imshow with RGB data ([0..1] for floats or [0..255] for integers).\n",
      "WARNING:matplotlib.image:Clipping input data to the valid range for imshow with RGB data ([0..1] for floats or [0..255] for integers).\n",
      "WARNING:matplotlib.image:Clipping input data to the valid range for imshow with RGB data ([0..1] for floats or [0..255] for integers).\n",
      "WARNING:matplotlib.image:Clipping input data to the valid range for imshow with RGB data ([0..1] for floats or [0..255] for integers).\n",
      "WARNING:matplotlib.image:Clipping input data to the valid range for imshow with RGB data ([0..1] for floats or [0..255] for integers).\n",
      "WARNING:matplotlib.image:Clipping input data to the valid range for imshow with RGB data ([0..1] for floats or [0..255] for integers).\n",
      "WARNING:matplotlib.image:Clipping input data to the valid range for imshow with RGB data ([0..1] for floats or [0..255] for integers).\n",
      "WARNING:matplotlib.image:Clipping input data to the valid range for imshow with RGB data ([0..1] for floats or [0..255] for integers).\n",
      "WARNING:matplotlib.image:Clipping input data to the valid range for imshow with RGB data ([0..1] for floats or [0..255] for integers).\n",
      "WARNING:matplotlib.image:Clipping input data to the valid range for imshow with RGB data ([0..1] for floats or [0..255] for integers).\n",
      "WARNING:matplotlib.image:Clipping input data to the valid range for imshow with RGB data ([0..1] for floats or [0..255] for integers).\n",
      "WARNING:matplotlib.image:Clipping input data to the valid range for imshow with RGB data ([0..1] for floats or [0..255] for integers).\n",
      "WARNING:matplotlib.image:Clipping input data to the valid range for imshow with RGB data ([0..1] for floats or [0..255] for integers).\n",
      "WARNING:matplotlib.image:Clipping input data to the valid range for imshow with RGB data ([0..1] for floats or [0..255] for integers).\n",
      "WARNING:matplotlib.image:Clipping input data to the valid range for imshow with RGB data ([0..1] for floats or [0..255] for integers).\n",
      "WARNING:matplotlib.image:Clipping input data to the valid range for imshow with RGB data ([0..1] for floats or [0..255] for integers).\n",
      "WARNING:matplotlib.image:Clipping input data to the valid range for imshow with RGB data ([0..1] for floats or [0..255] for integers).\n",
      "WARNING:matplotlib.image:Clipping input data to the valid range for imshow with RGB data ([0..1] for floats or [0..255] for integers).\n",
      "WARNING:matplotlib.image:Clipping input data to the valid range for imshow with RGB data ([0..1] for floats or [0..255] for integers).\n",
      "WARNING:matplotlib.image:Clipping input data to the valid range for imshow with RGB data ([0..1] for floats or [0..255] for integers).\n",
      "WARNING:matplotlib.image:Clipping input data to the valid range for imshow with RGB data ([0..1] for floats or [0..255] for integers).\n",
      "WARNING:matplotlib.image:Clipping input data to the valid range for imshow with RGB data ([0..1] for floats or [0..255] for integers).\n",
      "WARNING:matplotlib.image:Clipping input data to the valid range for imshow with RGB data ([0..1] for floats or [0..255] for integers).\n",
      "WARNING:matplotlib.image:Clipping input data to the valid range for imshow with RGB data ([0..1] for floats or [0..255] for integers).\n",
      "WARNING:matplotlib.image:Clipping input data to the valid range for imshow with RGB data ([0..1] for floats or [0..255] for integers).\n",
      "WARNING:matplotlib.image:Clipping input data to the valid range for imshow with RGB data ([0..1] for floats or [0..255] for integers).\n"
     ]
    },
    {
     "name": "stdout",
     "output_type": "stream",
     "text": [
      "[1/200] 210'th step. [LOSS] 2.094340. [LOSS_GLOW] 0.332416. [LOSS_WEIGHT_CYCLE] 0.009837. [LOSS_CONTENT] 0.693437. [ACCURACY_CONTENT] 0.500000. [LOSS_COMPATIBLE] 0.691166. [ACCURACY_COMPATIBLE] 0.500000. [LOSS_SIAMESE] 0.407925. [NORM_S1] 0.201969. [NORM_S2] 0.202108\n",
      "    Best Step:    210. Elapsed Time: 247.215733 seconds.\n",
      "[1/200] 220'th step. [LOSS] 1.939766. [LOSS_GLOW] 0.340079. [LOSS_WEIGHT_CYCLE] 0.001545. [LOSS_CONTENT] 0.693624. [ACCURACY_CONTENT] 0.500000. [LOSS_COMPATIBLE] 0.690904. [ACCURACY_COMPATIBLE] 0.500000. [LOSS_SIAMESE] 0.173821. [NORM_S1] 0.131841. [NORM_S2] 0.131960\n",
      "    Best Step:    220. Elapsed Time: 262.675404 seconds.\n",
      "[1/200] 230'th step. [LOSS] 2.059062. [LOSS_GLOW] 0.333492. [LOSS_WEIGHT_CYCLE] 0.004941. [LOSS_CONTENT] 0.693022. [ACCURACY_CONTENT] 0.500000. [LOSS_COMPATIBLE] 0.694223. [ACCURACY_COMPATIBLE] 0.500000. [LOSS_SIAMESE] 0.338074. [NORM_S1] 0.183868. [NORM_S2] 0.184144\n",
      "    Best Step:    230. Elapsed Time: 273.683017 seconds.\n",
      "[1/200] 240'th step. [LOSS] 1.936648. [LOSS_GLOW] 0.329630. [LOSS_WEIGHT_CYCLE] 0.002861. [LOSS_CONTENT] 0.694102. [ACCURACY_CONTENT] 0.500000. [LOSS_COMPATIBLE] 0.690177. [ACCURACY_COMPATIBLE] 0.515625. [LOSS_SIAMESE] 0.257922. [NORM_S1] 0.160599. [NORM_S2] 0.160870\n",
      "    Best Step:    240. Elapsed Time: 285.318909 seconds.\n",
      "[1/200] 250'th step. [LOSS] 1.920569. [LOSS_GLOW] 0.327619. [LOSS_WEIGHT_CYCLE] 0.005212. [LOSS_CONTENT] 0.691588. [ACCURACY_CONTENT] 0.562500. [LOSS_COMPATIBLE] 0.691690. [ACCURACY_COMPATIBLE] 0.531250. [LOSS_SIAMESE] 0.237980. [NORM_S1] 0.154265. [NORM_S2] 0.154193\n",
      "    Best Step:    250. Elapsed Time: 295.992376 seconds.\n",
      "[1/200] 260'th step. [LOSS] 2.067595. [LOSS_GLOW] 0.327175. [LOSS_WEIGHT_CYCLE] 0.004948. [LOSS_CONTENT] 0.692401. [ACCURACY_CONTENT] 0.500000. [LOSS_COMPATIBLE] 0.695205. [ACCURACY_COMPATIBLE] 0.500000. [LOSS_SIAMESE] 0.326053. [NORM_S1] 0.180568. [NORM_S2] 0.180568\n",
      "    Best Step:    260. Elapsed Time: 306.317771 seconds.\n",
      "[1/200] 270'th step. [LOSS] 1.979311. [LOSS_GLOW] 0.327316. [LOSS_WEIGHT_CYCLE] 0.003857. [LOSS_CONTENT] 0.694712. [ACCURACY_CONTENT] 0.500000. [LOSS_COMPATIBLE] 0.692043. [ACCURACY_COMPATIBLE] 0.546875. [LOSS_SIAMESE] 0.282627. [NORM_S1] 0.168114. [NORM_S2] 0.168280\n",
      "    Best Step:    270. Elapsed Time: 316.996223 seconds.\n",
      "[1/200] 280'th step. [LOSS] 2.058132. [LOSS_GLOW] 0.333724. [LOSS_WEIGHT_CYCLE] 0.004542. [LOSS_CONTENT] 0.693757. [ACCURACY_CONTENT] 0.500000. [LOSS_COMPATIBLE] 0.693627. [ACCURACY_COMPATIBLE] 0.484375. [LOSS_SIAMESE] 0.334123. [NORM_S1] 0.182790. [NORM_S2] 0.182765\n",
      "    Best Step:    280. Elapsed Time: 327.887108 seconds.\n",
      "[1/200] 290'th step. [LOSS] 2.114641. [LOSS_GLOW] 0.320973. [LOSS_WEIGHT_CYCLE] 0.010999. [LOSS_CONTENT] 0.694052. [ACCURACY_CONTENT] 0.500000. [LOSS_COMPATIBLE] 0.689839. [ACCURACY_COMPATIBLE] 0.593750. [LOSS_SIAMESE] 0.439173. [NORM_S1] 0.209563. [NORM_S2] 0.210305\n",
      "    Best Step:    290. Elapsed Time: 338.110777 seconds.\n",
      "[1/200] 300'th step. [LOSS] 2.049559. [LOSS_GLOW] 0.315211. [LOSS_WEIGHT_CYCLE] 0.007704. [LOSS_CONTENT] 0.693930. [ACCURACY_CONTENT] 0.468750. [LOSS_COMPATIBLE] 0.693607. [ACCURACY_COMPATIBLE] 0.468750. [LOSS_SIAMESE] 0.346428. [NORM_S1] 0.186125. [NORM_S2] 0.186191\n",
      "    Best Step:    300. Elapsed Time: 348.287570 seconds.\n"
     ]
    },
    {
     "name": "stderr",
     "output_type": "stream",
     "text": [
      "WARNING:matplotlib.image:Clipping input data to the valid range for imshow with RGB data ([0..1] for floats or [0..255] for integers).\n",
      "WARNING:matplotlib.image:Clipping input data to the valid range for imshow with RGB data ([0..1] for floats or [0..255] for integers).\n",
      "WARNING:matplotlib.image:Clipping input data to the valid range for imshow with RGB data ([0..1] for floats or [0..255] for integers).\n",
      "WARNING:matplotlib.image:Clipping input data to the valid range for imshow with RGB data ([0..1] for floats or [0..255] for integers).\n",
      "WARNING:matplotlib.image:Clipping input data to the valid range for imshow with RGB data ([0..1] for floats or [0..255] for integers).\n",
      "WARNING:matplotlib.image:Clipping input data to the valid range for imshow with RGB data ([0..1] for floats or [0..255] for integers).\n",
      "WARNING:matplotlib.image:Clipping input data to the valid range for imshow with RGB data ([0..1] for floats or [0..255] for integers).\n",
      "WARNING:matplotlib.image:Clipping input data to the valid range for imshow with RGB data ([0..1] for floats or [0..255] for integers).\n",
      "WARNING:matplotlib.image:Clipping input data to the valid range for imshow with RGB data ([0..1] for floats or [0..255] for integers).\n",
      "WARNING:matplotlib.image:Clipping input data to the valid range for imshow with RGB data ([0..1] for floats or [0..255] for integers).\n",
      "WARNING:matplotlib.image:Clipping input data to the valid range for imshow with RGB data ([0..1] for floats or [0..255] for integers).\n",
      "WARNING:matplotlib.image:Clipping input data to the valid range for imshow with RGB data ([0..1] for floats or [0..255] for integers).\n",
      "WARNING:matplotlib.image:Clipping input data to the valid range for imshow with RGB data ([0..1] for floats or [0..255] for integers).\n",
      "WARNING:matplotlib.image:Clipping input data to the valid range for imshow with RGB data ([0..1] for floats or [0..255] for integers).\n",
      "WARNING:matplotlib.image:Clipping input data to the valid range for imshow with RGB data ([0..1] for floats or [0..255] for integers).\n",
      "WARNING:matplotlib.image:Clipping input data to the valid range for imshow with RGB data ([0..1] for floats or [0..255] for integers).\n",
      "WARNING:matplotlib.image:Clipping input data to the valid range for imshow with RGB data ([0..1] for floats or [0..255] for integers).\n",
      "WARNING:matplotlib.image:Clipping input data to the valid range for imshow with RGB data ([0..1] for floats or [0..255] for integers).\n",
      "WARNING:matplotlib.image:Clipping input data to the valid range for imshow with RGB data ([0..1] for floats or [0..255] for integers).\n",
      "WARNING:matplotlib.image:Clipping input data to the valid range for imshow with RGB data ([0..1] for floats or [0..255] for integers).\n",
      "WARNING:matplotlib.image:Clipping input data to the valid range for imshow with RGB data ([0..1] for floats or [0..255] for integers).\n",
      "WARNING:matplotlib.image:Clipping input data to the valid range for imshow with RGB data ([0..1] for floats or [0..255] for integers).\n",
      "WARNING:matplotlib.image:Clipping input data to the valid range for imshow with RGB data ([0..1] for floats or [0..255] for integers).\n",
      "WARNING:matplotlib.image:Clipping input data to the valid range for imshow with RGB data ([0..1] for floats or [0..255] for integers).\n",
      "WARNING:matplotlib.image:Clipping input data to the valid range for imshow with RGB data ([0..1] for floats or [0..255] for integers).\n",
      "WARNING:matplotlib.image:Clipping input data to the valid range for imshow with RGB data ([0..1] for floats or [0..255] for integers).\n",
      "WARNING:matplotlib.image:Clipping input data to the valid range for imshow with RGB data ([0..1] for floats or [0..255] for integers).\n",
      "WARNING:matplotlib.image:Clipping input data to the valid range for imshow with RGB data ([0..1] for floats or [0..255] for integers).\n",
      "WARNING:matplotlib.image:Clipping input data to the valid range for imshow with RGB data ([0..1] for floats or [0..255] for integers).\n",
      "WARNING:matplotlib.image:Clipping input data to the valid range for imshow with RGB data ([0..1] for floats or [0..255] for integers).\n",
      "WARNING:matplotlib.image:Clipping input data to the valid range for imshow with RGB data ([0..1] for floats or [0..255] for integers).\n",
      "WARNING:matplotlib.image:Clipping input data to the valid range for imshow with RGB data ([0..1] for floats or [0..255] for integers).\n",
      "WARNING:matplotlib.image:Clipping input data to the valid range for imshow with RGB data ([0..1] for floats or [0..255] for integers).\n",
      "WARNING:matplotlib.image:Clipping input data to the valid range for imshow with RGB data ([0..1] for floats or [0..255] for integers).\n",
      "WARNING:matplotlib.image:Clipping input data to the valid range for imshow with RGB data ([0..1] for floats or [0..255] for integers).\n"
     ]
    },
    {
     "name": "stdout",
     "output_type": "stream",
     "text": [
      "[1/200] 310'th step. [LOSS] 2.126437. [LOSS_GLOW] 0.318941. [LOSS_WEIGHT_CYCLE] 0.008193. [LOSS_CONTENT] 0.692715. [ACCURACY_CONTENT] 0.531250. [LOSS_COMPATIBLE] 0.691637. [ACCURACY_COMPATIBLE] 0.515625. [LOSS_SIAMESE] 0.417218. [NORM_S1] 0.204258. [NORM_S2] 0.204828\n",
      "    Best Step:    310. Elapsed Time: 365.407802 seconds.\n",
      "[1/200] 320'th step. [LOSS] 2.025345. [LOSS_GLOW] 0.318956. [LOSS_WEIGHT_CYCLE] 0.006114. [LOSS_CONTENT] 0.695467. [ACCURACY_CONTENT] 0.500000. [LOSS_COMPATIBLE] 0.692168. [ACCURACY_COMPATIBLE] 0.562500. [LOSS_SIAMESE] 0.290344. [NORM_S1] 0.170394. [NORM_S2] 0.171236\n",
      "    Best Step:    320. Elapsed Time: 377.093561 seconds.\n",
      "[1/200] 330'th step. [LOSS] 1.941052. [LOSS_GLOW] 0.311807. [LOSS_WEIGHT_CYCLE] 0.007266. [LOSS_CONTENT] 0.694094. [ACCURACY_CONTENT] 0.500000. [LOSS_COMPATIBLE] 0.694235. [ACCURACY_COMPATIBLE] 0.375000. [LOSS_SIAMESE] 0.253613. [NORM_S1] 0.159251. [NORM_S2] 0.159113\n",
      "    Best Step:    330. Elapsed Time: 387.564567 seconds.\n",
      "[1/200] 340'th step. [LOSS] 2.057601. [LOSS_GLOW] 0.312207. [LOSS_WEIGHT_CYCLE] 0.008673. [LOSS_CONTENT] 0.693018. [ACCURACY_CONTENT] 0.468750. [LOSS_COMPATIBLE] 0.692914. [ACCURACY_COMPATIBLE] 0.500000. [LOSS_SIAMESE] 0.404825. [NORM_S1] 0.201202. [NORM_S2] 0.201150\n",
      "    Best Step:    340. Elapsed Time: 397.878994 seconds.\n",
      "[1/200] 350'th step. [LOSS] 2.095442. [LOSS_GLOW] 0.312044. [LOSS_WEIGHT_CYCLE] 0.004445. [LOSS_CONTENT] 0.693434. [ACCURACY_CONTENT] 0.562500. [LOSS_COMPATIBLE] 0.695274. [ACCURACY_COMPATIBLE] 0.531250. [LOSS_SIAMESE] 0.417790. [NORM_S1] 0.204398. [NORM_S2] 0.204108\n",
      "    Best Step:    350. Elapsed Time: 408.185440 seconds.\n",
      "[1/200] 360'th step. [LOSS] 1.921889. [LOSS_GLOW] 0.314695. [LOSS_WEIGHT_CYCLE] 0.002200. [LOSS_CONTENT] 0.693643. [ACCURACY_CONTENT] 0.500000. [LOSS_COMPATIBLE] 0.693382. [ACCURACY_COMPATIBLE] 0.546875. [LOSS_SIAMESE] 0.243131. [NORM_S1] 0.155926. [NORM_S2] 0.156203\n",
      "    Best Step:    360. Elapsed Time: 418.795078 seconds.\n",
      "[1/200] 370'th step. [LOSS] 2.065090. [LOSS_GLOW] 0.307011. [LOSS_WEIGHT_CYCLE] 0.004284. [LOSS_CONTENT] 0.693605. [ACCURACY_CONTENT] 0.500000. [LOSS_COMPATIBLE] 0.693133. [ACCURACY_COMPATIBLE] 0.453125. [LOSS_SIAMESE] 0.358108. [NORM_S1] 0.189236. [NORM_S2] 0.189489\n",
      "    Best Step:    370. Elapsed Time: 429.506440 seconds.\n",
      "[1/200] 380'th step. [LOSS] 1.929792. [LOSS_GLOW] 0.309629. [LOSS_WEIGHT_CYCLE] 0.001235. [LOSS_CONTENT] 0.694902. [ACCURACY_CONTENT] 0.281250. [LOSS_COMPATIBLE] 0.693866. [ACCURACY_COMPATIBLE] 0.500000. [LOSS_SIAMESE] 0.212562. [NORM_S1] 0.145795. [NORM_S2] 0.145923\n",
      "    Best Step:    380. Elapsed Time: 439.957501 seconds.\n",
      "[1/200] 390'th step. [LOSS] 1.961647. [LOSS_GLOW] 0.308692. [LOSS_WEIGHT_CYCLE] 0.003058. [LOSS_CONTENT] 0.692606. [ACCURACY_CONTENT] 0.593750. [LOSS_COMPATIBLE] 0.692937. [ACCURACY_COMPATIBLE] 0.500000. [LOSS_SIAMESE] 0.302581. [NORM_S1] 0.173948. [NORM_S2] 0.173961\n",
      "    Best Step:    390. Elapsed Time: 450.136289 seconds.\n",
      "[1/200] 400'th step. [LOSS] 2.005805. [LOSS_GLOW] 0.301955. [LOSS_WEIGHT_CYCLE] 0.004233. [LOSS_CONTENT] 0.694652. [ACCURACY_CONTENT] 0.500000. [LOSS_COMPATIBLE] 0.691051. [ACCURACY_COMPATIBLE] 0.671875. [LOSS_SIAMESE] 0.309660. [NORM_S1] 0.175971. [NORM_S2] 0.176465\n",
      "    Best Step:    400. Elapsed Time: 460.531499 seconds.\n"
     ]
    },
    {
     "name": "stderr",
     "output_type": "stream",
     "text": [
      "WARNING:matplotlib.image:Clipping input data to the valid range for imshow with RGB data ([0..1] for floats or [0..255] for integers).\n",
      "WARNING:matplotlib.image:Clipping input data to the valid range for imshow with RGB data ([0..1] for floats or [0..255] for integers).\n",
      "WARNING:matplotlib.image:Clipping input data to the valid range for imshow with RGB data ([0..1] for floats or [0..255] for integers).\n",
      "WARNING:matplotlib.image:Clipping input data to the valid range for imshow with RGB data ([0..1] for floats or [0..255] for integers).\n",
      "WARNING:matplotlib.image:Clipping input data to the valid range for imshow with RGB data ([0..1] for floats or [0..255] for integers).\n",
      "WARNING:matplotlib.image:Clipping input data to the valid range for imshow with RGB data ([0..1] for floats or [0..255] for integers).\n",
      "WARNING:matplotlib.image:Clipping input data to the valid range for imshow with RGB data ([0..1] for floats or [0..255] for integers).\n",
      "WARNING:matplotlib.image:Clipping input data to the valid range for imshow with RGB data ([0..1] for floats or [0..255] for integers).\n",
      "WARNING:matplotlib.image:Clipping input data to the valid range for imshow with RGB data ([0..1] for floats or [0..255] for integers).\n",
      "WARNING:matplotlib.image:Clipping input data to the valid range for imshow with RGB data ([0..1] for floats or [0..255] for integers).\n",
      "WARNING:matplotlib.image:Clipping input data to the valid range for imshow with RGB data ([0..1] for floats or [0..255] for integers).\n",
      "WARNING:matplotlib.image:Clipping input data to the valid range for imshow with RGB data ([0..1] for floats or [0..255] for integers).\n",
      "WARNING:matplotlib.image:Clipping input data to the valid range for imshow with RGB data ([0..1] for floats or [0..255] for integers).\n",
      "WARNING:matplotlib.image:Clipping input data to the valid range for imshow with RGB data ([0..1] for floats or [0..255] for integers).\n",
      "WARNING:matplotlib.image:Clipping input data to the valid range for imshow with RGB data ([0..1] for floats or [0..255] for integers).\n",
      "WARNING:matplotlib.image:Clipping input data to the valid range for imshow with RGB data ([0..1] for floats or [0..255] for integers).\n",
      "WARNING:matplotlib.image:Clipping input data to the valid range for imshow with RGB data ([0..1] for floats or [0..255] for integers).\n",
      "WARNING:matplotlib.image:Clipping input data to the valid range for imshow with RGB data ([0..1] for floats or [0..255] for integers).\n",
      "WARNING:matplotlib.image:Clipping input data to the valid range for imshow with RGB data ([0..1] for floats or [0..255] for integers).\n",
      "WARNING:matplotlib.image:Clipping input data to the valid range for imshow with RGB data ([0..1] for floats or [0..255] for integers).\n",
      "WARNING:matplotlib.image:Clipping input data to the valid range for imshow with RGB data ([0..1] for floats or [0..255] for integers).\n",
      "WARNING:matplotlib.image:Clipping input data to the valid range for imshow with RGB data ([0..1] for floats or [0..255] for integers).\n",
      "WARNING:matplotlib.image:Clipping input data to the valid range for imshow with RGB data ([0..1] for floats or [0..255] for integers).\n",
      "WARNING:matplotlib.image:Clipping input data to the valid range for imshow with RGB data ([0..1] for floats or [0..255] for integers).\n",
      "WARNING:matplotlib.image:Clipping input data to the valid range for imshow with RGB data ([0..1] for floats or [0..255] for integers).\n",
      "WARNING:matplotlib.image:Clipping input data to the valid range for imshow with RGB data ([0..1] for floats or [0..255] for integers).\n",
      "WARNING:matplotlib.image:Clipping input data to the valid range for imshow with RGB data ([0..1] for floats or [0..255] for integers).\n",
      "WARNING:matplotlib.image:Clipping input data to the valid range for imshow with RGB data ([0..1] for floats or [0..255] for integers).\n",
      "WARNING:matplotlib.image:Clipping input data to the valid range for imshow with RGB data ([0..1] for floats or [0..255] for integers).\n",
      "WARNING:matplotlib.image:Clipping input data to the valid range for imshow with RGB data ([0..1] for floats or [0..255] for integers).\n",
      "WARNING:matplotlib.image:Clipping input data to the valid range for imshow with RGB data ([0..1] for floats or [0..255] for integers).\n",
      "WARNING:matplotlib.image:Clipping input data to the valid range for imshow with RGB data ([0..1] for floats or [0..255] for integers).\n",
      "WARNING:matplotlib.image:Clipping input data to the valid range for imshow with RGB data ([0..1] for floats or [0..255] for integers).\n",
      "WARNING:matplotlib.image:Clipping input data to the valid range for imshow with RGB data ([0..1] for floats or [0..255] for integers).\n"
     ]
    },
    {
     "name": "stdout",
     "output_type": "stream",
     "text": [
      "[1/200] 410'th step. [LOSS] 1.932128. [LOSS_GLOW] 0.316278. [LOSS_WEIGHT_CYCLE] 0.001167. [LOSS_CONTENT] 0.694295. [ACCURACY_CONTENT] 0.500000. [LOSS_COMPATIBLE] 0.690898. [ACCURACY_COMPATIBLE] 0.500000. [LOSS_SIAMESE] 0.163413. [NORM_S1] 0.127833. [NORM_S2] 0.127936\n",
      "    Best Step:    410. Elapsed Time: 478.435635 seconds.\n"
     ]
    },
    {
     "name": "stderr",
     "output_type": "stream",
     "text": [
      "WARNING:root:NaN or Inf found in input tensor.\n",
      "WARNING:root:NaN or Inf found in input tensor.\n"
     ]
    },
    {
     "ename": "RuntimeError",
     "evalue": "svd_cuda: the updating process of SBDSDC did not converge (error: 11)",
     "output_type": "error",
     "traceback": [
      "\u001b[1;31m---------------------------------------------------------------------------\u001b[0m",
      "\u001b[1;31mRuntimeError\u001b[0m                              Traceback (most recent call last)",
      "\u001b[1;32m<ipython-input-29-8f9019974dfe>\u001b[0m in \u001b[0;36m<module>\u001b[1;34m\u001b[0m\n\u001b[0;32m      3\u001b[0m \u001b[0mcs_model\u001b[0m \u001b[1;33m=\u001b[0m \u001b[0mCSGlowMnistModel\u001b[0m\u001b[1;33m(\u001b[0m\u001b[0mdevice\u001b[0m\u001b[1;33m)\u001b[0m\u001b[1;33m\u001b[0m\u001b[1;33m\u001b[0m\u001b[0m\n\u001b[0;32m      4\u001b[0m \u001b[1;31m#cs_model.load(os.path.join(run_dir, 'best_model.pth.tar'))\u001b[0m\u001b[1;33m\u001b[0m\u001b[1;33m\u001b[0m\u001b[1;33m\u001b[0m\u001b[0m\n\u001b[1;32m----> 5\u001b[1;33m \u001b[0mcs_model\u001b[0m\u001b[1;33m.\u001b[0m\u001b[0mtrain_model\u001b[0m\u001b[1;33m(\u001b[0m\u001b[0mtrain_loader\u001b[0m\u001b[1;33m,\u001b[0m \u001b[0mparams\u001b[0m\u001b[1;33m=\u001b[0m\u001b[0mparams\u001b[0m\u001b[1;33m)\u001b[0m\u001b[1;33m\u001b[0m\u001b[1;33m\u001b[0m\u001b[0m\n\u001b[0m",
      "\u001b[1;32mD:\\NCIA\\Projects\\content-style-gan\\csgan\\model\\base_model.py\u001b[0m in \u001b[0;36mtrain_model\u001b[1;34m(self, train_data, val_data, params, optimizer, scheduler)\u001b[0m\n\u001b[0;32m     93\u001b[0m                 \u001b[0mself\u001b[0m\u001b[1;33m.\u001b[0m\u001b[0m_update_schedulers\u001b[0m\u001b[1;33m(\u001b[0m\u001b[0mparams\u001b[0m\u001b[1;33m,\u001b[0m \u001b[0mglobal_step\u001b[0m\u001b[1;33m=\u001b[0m\u001b[0mistep\u001b[0m\u001b[1;33m)\u001b[0m\u001b[1;33m\u001b[0m\u001b[1;33m\u001b[0m\u001b[0m\n\u001b[0;32m     94\u001b[0m                 \u001b[0mbatch\u001b[0m\u001b[1;33m:\u001b[0m \u001b[0mDict\u001b[0m\u001b[1;33m[\u001b[0m\u001b[0mstr\u001b[0m\u001b[1;33m,\u001b[0m \u001b[0mTensor\u001b[0m\u001b[1;33m]\u001b[0m \u001b[1;33m=\u001b[0m \u001b[1;33m{\u001b[0m\u001b[0mkey\u001b[0m\u001b[1;33m:\u001b[0m \u001b[0mvalue\u001b[0m\u001b[1;33m.\u001b[0m\u001b[0mto\u001b[0m\u001b[1;33m(\u001b[0m\u001b[0mself\u001b[0m\u001b[1;33m.\u001b[0m\u001b[0m_device\u001b[0m\u001b[1;33m)\u001b[0m \u001b[1;32mfor\u001b[0m \u001b[0mkey\u001b[0m\u001b[1;33m,\u001b[0m \u001b[0mvalue\u001b[0m \u001b[1;32min\u001b[0m \u001b[0mbatch\u001b[0m\u001b[1;33m.\u001b[0m\u001b[0mitems\u001b[0m\u001b[1;33m(\u001b[0m\u001b[1;33m)\u001b[0m\u001b[1;33m}\u001b[0m\u001b[1;33m\u001b[0m\u001b[1;33m\u001b[0m\u001b[0m\n\u001b[1;32m---> 95\u001b[1;33m                 \u001b[0mloss_dict\u001b[0m\u001b[1;33m:\u001b[0m \u001b[0mDict\u001b[0m\u001b[1;33m[\u001b[0m\u001b[0mstr\u001b[0m\u001b[1;33m,\u001b[0m \u001b[0mAny\u001b[0m\u001b[1;33m]\u001b[0m \u001b[1;33m=\u001b[0m \u001b[0mself\u001b[0m\u001b[1;33m.\u001b[0m\u001b[0mtrain_on_batch\u001b[0m\u001b[1;33m(\u001b[0m\u001b[0mbatch\u001b[0m\u001b[1;33m,\u001b[0m \u001b[0mparams\u001b[0m\u001b[1;33m,\u001b[0m \u001b[0mglobal_step\u001b[0m\u001b[1;33m=\u001b[0m\u001b[0mistep\u001b[0m\u001b[1;33m)\u001b[0m\u001b[1;33m\u001b[0m\u001b[1;33m\u001b[0m\u001b[0m\n\u001b[0m\u001b[0;32m     96\u001b[0m                 \u001b[1;32mfor\u001b[0m \u001b[0mkey\u001b[0m \u001b[1;32min\u001b[0m \u001b[0mloss_dict\u001b[0m\u001b[1;33m:\u001b[0m\u001b[1;33m\u001b[0m\u001b[1;33m\u001b[0m\u001b[0m\n\u001b[0;32m     97\u001b[0m                     \u001b[0mwriter\u001b[0m\u001b[1;33m.\u001b[0m\u001b[0madd_scalar\u001b[0m\u001b[1;33m(\u001b[0m\u001b[1;34mf'train/{key}'\u001b[0m\u001b[1;33m,\u001b[0m \u001b[0mloss_dict\u001b[0m\u001b[1;33m[\u001b[0m\u001b[0mkey\u001b[0m\u001b[1;33m]\u001b[0m\u001b[1;33m,\u001b[0m \u001b[0mglobal_step\u001b[0m\u001b[1;33m=\u001b[0m\u001b[0mistep\u001b[0m\u001b[1;33m)\u001b[0m\u001b[1;33m\u001b[0m\u001b[1;33m\u001b[0m\u001b[0m\n",
      "\u001b[1;32mD:\\NCIA\\Projects\\content-style-gan\\csgan\\model\\base_model.py\u001b[0m in \u001b[0;36mtrain_on_batch\u001b[1;34m(self, batch, params, global_step)\u001b[0m\n\u001b[0;32m     37\u001b[0m \u001b[1;33m\u001b[0m\u001b[0m\n\u001b[0;32m     38\u001b[0m         \u001b[0moutput\u001b[0m\u001b[1;33m:\u001b[0m \u001b[0mDict\u001b[0m\u001b[1;33m[\u001b[0m\u001b[0mstr\u001b[0m\u001b[1;33m,\u001b[0m \u001b[0mTensor\u001b[0m\u001b[1;33m]\u001b[0m \u001b[1;33m=\u001b[0m \u001b[0mself\u001b[0m\u001b[1;33m.\u001b[0m\u001b[0mforward\u001b[0m\u001b[1;33m(\u001b[0m\u001b[0mbatch\u001b[0m\u001b[1;33m,\u001b[0m \u001b[0mparams\u001b[0m\u001b[1;33m,\u001b[0m \u001b[0mglobal_step\u001b[0m\u001b[1;33m=\u001b[0m\u001b[0mglobal_step\u001b[0m\u001b[1;33m)\u001b[0m\u001b[1;33m\u001b[0m\u001b[1;33m\u001b[0m\u001b[0m\n\u001b[1;32m---> 39\u001b[1;33m         \u001b[0mloss_dict\u001b[0m\u001b[1;33m:\u001b[0m \u001b[0mDict\u001b[0m\u001b[1;33m[\u001b[0m\u001b[0mstr\u001b[0m\u001b[1;33m,\u001b[0m \u001b[0mTensor\u001b[0m\u001b[1;33m]\u001b[0m \u001b[1;33m=\u001b[0m \u001b[0mself\u001b[0m\u001b[1;33m.\u001b[0m\u001b[0mloss_function\u001b[0m\u001b[1;33m(\u001b[0m\u001b[0mbatch\u001b[0m\u001b[1;33m,\u001b[0m \u001b[0moutput\u001b[0m\u001b[1;33m,\u001b[0m \u001b[0mparams\u001b[0m\u001b[1;33m,\u001b[0m \u001b[0mglobal_step\u001b[0m\u001b[1;33m=\u001b[0m\u001b[0mglobal_step\u001b[0m\u001b[1;33m)\u001b[0m\u001b[1;33m\u001b[0m\u001b[1;33m\u001b[0m\u001b[0m\n\u001b[0m\u001b[0;32m     40\u001b[0m \u001b[1;33m\u001b[0m\u001b[0m\n\u001b[0;32m     41\u001b[0m         \u001b[0mself\u001b[0m\u001b[1;33m.\u001b[0m\u001b[0m_update_optimizers\u001b[0m\u001b[1;33m(\u001b[0m\u001b[0mloss_dict\u001b[0m\u001b[1;33m,\u001b[0m \u001b[0mparams\u001b[0m\u001b[1;33m,\u001b[0m \u001b[0mglobal_step\u001b[0m\u001b[1;33m=\u001b[0m\u001b[0mglobal_step\u001b[0m\u001b[1;33m)\u001b[0m\u001b[1;33m\u001b[0m\u001b[1;33m\u001b[0m\u001b[0m\n",
      "\u001b[1;32mD:\\NCIA\\Projects\\content-style-gan\\csgan\\model\\cs_glow_model_huk.py\u001b[0m in \u001b[0;36mloss_function\u001b[1;34m(self, batch, output, params, global_step, **kwargs)\u001b[0m\n\u001b[0;32m    332\u001b[0m         \u001b[0moptimizer_glow\u001b[0m\u001b[1;33m.\u001b[0m\u001b[0mzero_grad\u001b[0m\u001b[1;33m(\u001b[0m\u001b[1;33m)\u001b[0m\u001b[1;33m\u001b[0m\u001b[1;33m\u001b[0m\u001b[0m\n\u001b[0;32m    333\u001b[0m         \u001b[0moptimizer_style_w\u001b[0m\u001b[1;33m.\u001b[0m\u001b[0mzero_grad\u001b[0m\u001b[1;33m(\u001b[0m\u001b[1;33m)\u001b[0m\u001b[1;33m\u001b[0m\u001b[1;33m\u001b[0m\u001b[0m\n\u001b[1;32m--> 334\u001b[1;33m         \u001b[0mloss\u001b[0m\u001b[1;33m.\u001b[0m\u001b[0mbackward\u001b[0m\u001b[1;33m(\u001b[0m\u001b[1;33m)\u001b[0m\u001b[1;33m\u001b[0m\u001b[1;33m\u001b[0m\u001b[0m\n\u001b[0m\u001b[0;32m    335\u001b[0m         \u001b[0moptimizer_glow\u001b[0m\u001b[1;33m.\u001b[0m\u001b[0mstep\u001b[0m\u001b[1;33m(\u001b[0m\u001b[1;33m)\u001b[0m\u001b[1;33m\u001b[0m\u001b[1;33m\u001b[0m\u001b[0m\n\u001b[0;32m    336\u001b[0m         \u001b[0moptimizer_style_w\u001b[0m\u001b[1;33m.\u001b[0m\u001b[0mstep\u001b[0m\u001b[1;33m(\u001b[0m\u001b[1;33m)\u001b[0m\u001b[1;33m\u001b[0m\u001b[1;33m\u001b[0m\u001b[0m\n",
      "\u001b[1;32m~\\Anaconda3\\envs\\pytorch3\\lib\\site-packages\\torch\\tensor.py\u001b[0m in \u001b[0;36mbackward\u001b[1;34m(self, gradient, retain_graph, create_graph)\u001b[0m\n\u001b[0;32m    219\u001b[0m                 \u001b[0mretain_graph\u001b[0m\u001b[1;33m=\u001b[0m\u001b[0mretain_graph\u001b[0m\u001b[1;33m,\u001b[0m\u001b[1;33m\u001b[0m\u001b[1;33m\u001b[0m\u001b[0m\n\u001b[0;32m    220\u001b[0m                 create_graph=create_graph)\n\u001b[1;32m--> 221\u001b[1;33m         \u001b[0mtorch\u001b[0m\u001b[1;33m.\u001b[0m\u001b[0mautograd\u001b[0m\u001b[1;33m.\u001b[0m\u001b[0mbackward\u001b[0m\u001b[1;33m(\u001b[0m\u001b[0mself\u001b[0m\u001b[1;33m,\u001b[0m \u001b[0mgradient\u001b[0m\u001b[1;33m,\u001b[0m \u001b[0mretain_graph\u001b[0m\u001b[1;33m,\u001b[0m \u001b[0mcreate_graph\u001b[0m\u001b[1;33m)\u001b[0m\u001b[1;33m\u001b[0m\u001b[1;33m\u001b[0m\u001b[0m\n\u001b[0m\u001b[0;32m    222\u001b[0m \u001b[1;33m\u001b[0m\u001b[0m\n\u001b[0;32m    223\u001b[0m     \u001b[1;32mdef\u001b[0m \u001b[0mregister_hook\u001b[0m\u001b[1;33m(\u001b[0m\u001b[0mself\u001b[0m\u001b[1;33m,\u001b[0m \u001b[0mhook\u001b[0m\u001b[1;33m)\u001b[0m\u001b[1;33m:\u001b[0m\u001b[1;33m\u001b[0m\u001b[1;33m\u001b[0m\u001b[0m\n",
      "\u001b[1;32m~\\Anaconda3\\envs\\pytorch3\\lib\\site-packages\\torch\\autograd\\__init__.py\u001b[0m in \u001b[0;36mbackward\u001b[1;34m(tensors, grad_tensors, retain_graph, create_graph, grad_variables)\u001b[0m\n\u001b[0;32m    130\u001b[0m     Variable._execution_engine.run_backward(\n\u001b[0;32m    131\u001b[0m         \u001b[0mtensors\u001b[0m\u001b[1;33m,\u001b[0m \u001b[0mgrad_tensors_\u001b[0m\u001b[1;33m,\u001b[0m \u001b[0mretain_graph\u001b[0m\u001b[1;33m,\u001b[0m \u001b[0mcreate_graph\u001b[0m\u001b[1;33m,\u001b[0m\u001b[1;33m\u001b[0m\u001b[1;33m\u001b[0m\u001b[0m\n\u001b[1;32m--> 132\u001b[1;33m         allow_unreachable=True)  # allow_unreachable flag\n\u001b[0m\u001b[0;32m    133\u001b[0m \u001b[1;33m\u001b[0m\u001b[0m\n\u001b[0;32m    134\u001b[0m \u001b[1;33m\u001b[0m\u001b[0m\n",
      "\u001b[1;31mRuntimeError\u001b[0m: svd_cuda: the updating process of SBDSDC did not converge (error: 11)"
     ]
    }
   ],
   "source": [
    "device = torch.device('cuda' if torch.cuda.is_available() else 'cpu')\n",
    "\n",
    "cs_model = CSGlowMnistModel(device)\n",
    "#cs_model.load(os.path.join(run_dir, 'best_model.pth.tar'))\n",
    "cs_model.train_model(train_loader, params=params)"
   ]
  },
  {
   "cell_type": "code",
   "execution_count": null,
   "metadata": {},
   "outputs": [],
   "source": [
    "all_input, all_output = cs_model.predict(test_loader)"
   ]
  },
  {
   "cell_type": "code",
   "execution_count": 11,
   "metadata": {},
   "outputs": [
    {
     "data": {
      "image/png": "[encoded data removed]",
      "text/plain": [
       "<Figure size 2160x432 with 28 Axes>"
      ]
     },
     "metadata": {},
     "output_type": "display_data"
    }
   ],
   "source": [
    "images = all_input['x2'].numpy().transpose(0, 2, 3, 1)\n",
    "latents = all_output['z2'].numpy()\n",
    "styles = all_output['s2'].numpy()\n",
    "contents = all_output['c2'].numpy()\n",
    "\n",
    "index = np.random.randint(len(images))\n",
    "\n",
    "fig = plt.figure(figsize=(30, 6))\n",
    "\n",
    "ax = fig.add_subplot(1, 5, 1)\n",
    "ax.imshow(images[index])\n",
    "content_indices = ((contents-contents[index:index+1])**2).mean(axis=1).argsort(axis=0)\n",
    "style_indices = ((styles-styles[index:index+1])**2).mean(axis=1).argsort(axis=0)\n",
    "latent_indices = ((latents-latents[index:index+1])**2).mean(axis=1).argsort(axis=0)\n",
    "for i in range(9):\n",
    "    ax = fig.add_subplot(3, 15, 15*(i//3)+(i%3)+5)\n",
    "    ax.imshow(images[content_indices[i]])\n",
    "for i in range(9):\n",
    "    ax = fig.add_subplot(3, 15, 15*(i//3)+(i%3)+9)\n",
    "    ax.imshow(images[style_indices[i]])\n",
    "for i in range(9):\n",
    "    ax = fig.add_subplot(3, 15, 15*(i//3)+(i%3)+13)\n",
    "    ax.imshow(images[latent_indices[i]])\n",
    "\n",
    "plt.savefig(os.path.join(__ROOT_PATH, \"./results/\", f\"similar_test.png\"), dpi=200, bbox_inches='tight')\n",
    "plt.show()"
   ]
  },
  {
   "cell_type": "code",
   "execution_count": 8,
   "metadata": {},
   "outputs": [
    {
     "data": {
      "text/plain": [
       "4.49438202247191"
      ]
     },
     "execution_count": 8,
     "metadata": {},
     "output_type": "execute_result"
    }
   ],
   "source": [
    "4/89*100"
   ]
  }
 ],
 "metadata": {
  "kernelspec": {
   "display_name": "Python 3",
   "language": "python",
   "name": "python3"
  },
  "language_info": {
   "codemirror_mode": {
    "name": "ipython",
    "version": 3
   },
   "file_extension": ".py",
   "mimetype": "text/x-python",
   "name": "python",
   "nbconvert_exporter": "python",
   "pygments_lexer": "ipython3",
   "version": "3.7.9"
  }
 },
 "nbformat": 4,
 "nbformat_minor": 4
}
